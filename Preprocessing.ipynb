{
 "cells": [
  {
   "cell_type": "code",
   "execution_count": 1,
   "id": "4d2c1c19",
   "metadata": {},
   "outputs": [
    {
     "name": "stdout",
     "output_type": "stream",
     "text": [
      "Saved frame 0 to C:\\Users\\jacob\\Desktop\\ML Course\\ANPR Camera\\Output\\frame_0000.jpg\n",
      "Saved frame 5 to C:\\Users\\jacob\\Desktop\\ML Course\\ANPR Camera\\Output\\frame_0005.jpg\n",
      "Saved frame 10 to C:\\Users\\jacob\\Desktop\\ML Course\\ANPR Camera\\Output\\frame_0010.jpg\n",
      "Saved frame 15 to C:\\Users\\jacob\\Desktop\\ML Course\\ANPR Camera\\Output\\frame_0015.jpg\n",
      "Saved frame 20 to C:\\Users\\jacob\\Desktop\\ML Course\\ANPR Camera\\Output\\frame_0020.jpg\n",
      "Saved frame 25 to C:\\Users\\jacob\\Desktop\\ML Course\\ANPR Camera\\Output\\frame_0025.jpg\n",
      "Saved frame 30 to C:\\Users\\jacob\\Desktop\\ML Course\\ANPR Camera\\Output\\frame_0030.jpg\n",
      "Saved frame 35 to C:\\Users\\jacob\\Desktop\\ML Course\\ANPR Camera\\Output\\frame_0035.jpg\n",
      "Saved frame 40 to C:\\Users\\jacob\\Desktop\\ML Course\\ANPR Camera\\Output\\frame_0040.jpg\n",
      "Saved frame 45 to C:\\Users\\jacob\\Desktop\\ML Course\\ANPR Camera\\Output\\frame_0045.jpg\n",
      "Saved frame 50 to C:\\Users\\jacob\\Desktop\\ML Course\\ANPR Camera\\Output\\frame_0050.jpg\n",
      "Saved frame 55 to C:\\Users\\jacob\\Desktop\\ML Course\\ANPR Camera\\Output\\frame_0055.jpg\n",
      "Saved frame 60 to C:\\Users\\jacob\\Desktop\\ML Course\\ANPR Camera\\Output\\frame_0060.jpg\n",
      "Saved frame 65 to C:\\Users\\jacob\\Desktop\\ML Course\\ANPR Camera\\Output\\frame_0065.jpg\n",
      "Saved frame 70 to C:\\Users\\jacob\\Desktop\\ML Course\\ANPR Camera\\Output\\frame_0070.jpg\n",
      "Saved frame 75 to C:\\Users\\jacob\\Desktop\\ML Course\\ANPR Camera\\Output\\frame_0075.jpg\n",
      "Saved frame 80 to C:\\Users\\jacob\\Desktop\\ML Course\\ANPR Camera\\Output\\frame_0080.jpg\n",
      "Saved frame 85 to C:\\Users\\jacob\\Desktop\\ML Course\\ANPR Camera\\Output\\frame_0085.jpg\n",
      "Saved frame 90 to C:\\Users\\jacob\\Desktop\\ML Course\\ANPR Camera\\Output\\frame_0090.jpg\n",
      "Saved frame 95 to C:\\Users\\jacob\\Desktop\\ML Course\\ANPR Camera\\Output\\frame_0095.jpg\n",
      "Saved frame 100 to C:\\Users\\jacob\\Desktop\\ML Course\\ANPR Camera\\Output\\frame_0100.jpg\n",
      "Saved frame 105 to C:\\Users\\jacob\\Desktop\\ML Course\\ANPR Camera\\Output\\frame_0105.jpg\n",
      "Saved frame 110 to C:\\Users\\jacob\\Desktop\\ML Course\\ANPR Camera\\Output\\frame_0110.jpg\n",
      "Saved frame 115 to C:\\Users\\jacob\\Desktop\\ML Course\\ANPR Camera\\Output\\frame_0115.jpg\n",
      "Saved frame 120 to C:\\Users\\jacob\\Desktop\\ML Course\\ANPR Camera\\Output\\frame_0120.jpg\n",
      "Saved frame 125 to C:\\Users\\jacob\\Desktop\\ML Course\\ANPR Camera\\Output\\frame_0125.jpg\n",
      "Saved frame 130 to C:\\Users\\jacob\\Desktop\\ML Course\\ANPR Camera\\Output\\frame_0130.jpg\n",
      "Saved frame 135 to C:\\Users\\jacob\\Desktop\\ML Course\\ANPR Camera\\Output\\frame_0135.jpg\n",
      "Saved frame 140 to C:\\Users\\jacob\\Desktop\\ML Course\\ANPR Camera\\Output\\frame_0140.jpg\n",
      "Saved frame 145 to C:\\Users\\jacob\\Desktop\\ML Course\\ANPR Camera\\Output\\frame_0145.jpg\n",
      "Saved frame 150 to C:\\Users\\jacob\\Desktop\\ML Course\\ANPR Camera\\Output\\frame_0150.jpg\n",
      "Saved frame 155 to C:\\Users\\jacob\\Desktop\\ML Course\\ANPR Camera\\Output\\frame_0155.jpg\n",
      "Saved frame 160 to C:\\Users\\jacob\\Desktop\\ML Course\\ANPR Camera\\Output\\frame_0160.jpg\n",
      "Saved frame 165 to C:\\Users\\jacob\\Desktop\\ML Course\\ANPR Camera\\Output\\frame_0165.jpg\n",
      "Saved frame 170 to C:\\Users\\jacob\\Desktop\\ML Course\\ANPR Camera\\Output\\frame_0170.jpg\n",
      "Saved frame 175 to C:\\Users\\jacob\\Desktop\\ML Course\\ANPR Camera\\Output\\frame_0175.jpg\n",
      "Saved frame 180 to C:\\Users\\jacob\\Desktop\\ML Course\\ANPR Camera\\Output\\frame_0180.jpg\n",
      "Saved frame 185 to C:\\Users\\jacob\\Desktop\\ML Course\\ANPR Camera\\Output\\frame_0185.jpg\n",
      "Saved frame 190 to C:\\Users\\jacob\\Desktop\\ML Course\\ANPR Camera\\Output\\frame_0190.jpg\n",
      "Saved frame 195 to C:\\Users\\jacob\\Desktop\\ML Course\\ANPR Camera\\Output\\frame_0195.jpg\n",
      "Saved frame 200 to C:\\Users\\jacob\\Desktop\\ML Course\\ANPR Camera\\Output\\frame_0200.jpg\n",
      "Saved frame 205 to C:\\Users\\jacob\\Desktop\\ML Course\\ANPR Camera\\Output\\frame_0205.jpg\n",
      "Saved frame 210 to C:\\Users\\jacob\\Desktop\\ML Course\\ANPR Camera\\Output\\frame_0210.jpg\n",
      "Saved frame 215 to C:\\Users\\jacob\\Desktop\\ML Course\\ANPR Camera\\Output\\frame_0215.jpg\n",
      "Saved frame 220 to C:\\Users\\jacob\\Desktop\\ML Course\\ANPR Camera\\Output\\frame_0220.jpg\n",
      "Saved frame 225 to C:\\Users\\jacob\\Desktop\\ML Course\\ANPR Camera\\Output\\frame_0225.jpg\n",
      "End of video file reached or no frames to read\n",
      "Total frames extracted: 45\n"
     ]
    }
   ],
   "source": [
    "import cv2\n",
    "import os\n",
    "\n",
    "# Path to the input video\n",
    "video_path = 'C:\\\\Users\\\\jacob\\Desktop\\\\ML Course\\\\ANPR Camera\\\\Golf GTI 2.mp4'\n",
    "# Directory where the frames will be saved\n",
    "output_dir = 'C:\\\\Users\\\\jacob\\\\Desktop\\\\ML Course\\\\ANPR Camera\\\\Output\\\\GTI Outputs'\n",
    "os.makedirs(output_dir, exist_ok=True)\n",
    "\n",
    "# Open the video file\n",
    "cap = cv2.VideoCapture(video_path)\n",
    "if not cap.isOpened():\n",
    "    print(f\"Error: Unable to open video file {video_path}\")\n",
    "    exit()\n",
    "\n",
    "frame_count = 0\n",
    "frame_interval = 5  # Extract every 5th frame\n",
    "\n",
    "while cap.isOpened():\n",
    "    ret, frame = cap.read()\n",
    "    if not ret:\n",
    "        print(\"End of video file reached or no frames to read\")\n",
    "        break\n",
    "    \n",
    "    if frame_count % frame_interval == 0:\n",
    "        # Save the frame as an image file\n",
    "        frame_filename = os.path.join(output_dir, f'frame_{frame_count:04d}.jpg')\n",
    "        cv2.imwrite(frame_filename, frame)\n",
    "        print(f\"Saved frame {frame_count} to {frame_filename}\")\n",
    "    \n",
    "    frame_count += 1\n",
    "\n",
    "cap.release()\n",
    "cv2.destroyAllWindows()\n",
    "print(f\"Total frames extracted: {frame_count // frame_interval}\")"
   ]
  },
  {
   "cell_type": "code",
   "execution_count": 16,
   "id": "4d3a6bae",
   "metadata": {},
   "outputs": [],
   "source": [
    "import yaml\n",
    "\n",
    "train: 'C:\\\\Users\\\\jacob\\\\Desktop\\\\Projects\\\\ANPR_Camera\\\\GTI Data\\\\train\\\\images'\n",
    "val: 'C:\\\\Users\\\\jacob\\\\Desktop\\\\Projects\\\\ANPR_Camera\\\\GTI Data\\\\valid\\\\images'\n",
    "    \n",
    "nc: 1  # Number of classes\n",
    "names: ['car']  # Class names"
   ]
  },
  {
   "cell_type": "code",
   "execution_count": 6,
   "id": "48a79ad4",
   "metadata": {},
   "outputs": [
    {
     "name": "stdout",
     "output_type": "stream",
     "text": [
      "{'train': '../train/images', 'val': '../valid/images', 'test': '../test/images', 'nc': 1, 'names': ['car'], 'roboflow': {'workspace': 'anpr-camera', 'project': 'cars-wrcyo', 'version': 1, 'license': 'CC BY 4.0', 'url': 'https://universe.roboflow.com/anpr-camera/cars-wrcyo/dataset/1'}}\n"
     ]
    }
   ],
   "source": [
    "with open('C:\\\\Users\\\\jacob\\\\Desktop\\\\Projects\\\\ANPR_Camera\\\\GTI Data\\\\data.yaml', 'r') as file:\n",
    "    data = yaml.safe_load(file)\n",
    "# Print the contents\n",
    "print(data)"
   ]
  },
  {
   "cell_type": "code",
   "execution_count": 7,
   "id": "449d451f",
   "metadata": {},
   "outputs": [
    {
     "name": "stdout",
     "output_type": "stream",
     "text": [
      "2.3.0\n",
      "True\n",
      "NVIDIA GeForce RTX 3070\n"
     ]
    }
   ],
   "source": [
    "import torch\n",
    "print(torch.__version__)\n",
    "print(torch.cuda.is_available())\n",
    "print(torch.cuda.get_device_name(0))"
   ]
  }
 ],
 "metadata": {
  "kernelspec": {
   "display_name": "Python 3 (ipykernel)",
   "language": "python",
   "name": "python3"
  },
  "language_info": {
   "codemirror_mode": {
    "name": "ipython",
    "version": 3
   },
   "file_extension": ".py",
   "mimetype": "text/x-python",
   "name": "python",
   "nbconvert_exporter": "python",
   "pygments_lexer": "ipython3",
   "version": "3.12.3"
  }
 },
 "nbformat": 4,
 "nbformat_minor": 5
}
