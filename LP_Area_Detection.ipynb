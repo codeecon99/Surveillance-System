{
 "cells": [
  {
   "cell_type": "code",
   "execution_count": null,
   "id": "6753e156-f6c1-4058-85ba-2e9558fca093",
   "metadata": {},
   "outputs": [],
   "source": [
    "#Tune yolov5 model for license plate area detection! \n",
    "\n"
   ]
  }
 ],
 "metadata": {
  "kernelspec": {
   "display_name": "Python 3 (ipykernel)",
   "language": "python",
   "name": "python3"
  },
  "language_info": {
   "codemirror_mode": {
    "name": "ipython",
    "version": 3
   },
   "file_extension": ".py",
   "mimetype": "text/x-python",
   "name": "python",
   "nbconvert_exporter": "python",
   "pygments_lexer": "ipython3",
   "version": "3.12.3"
  }
 },
 "nbformat": 4,
 "nbformat_minor": 5
}
