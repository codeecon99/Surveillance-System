{
 "cells": [
  {
   "cell_type": "code",
   "execution_count": null,
   "id": "009764d9-2190-4434-9923-2bcef5519e48",
   "metadata": {},
   "outputs": [],
   "source": [
    "#Use OpenALPR Application for this method\n",
    "#Compare results against previous version"
   ]
  }
 ],
 "metadata": {
  "kernelspec": {
   "display_name": "Python 3 (ipykernel)",
   "language": "python",
   "name": "python3"
  },
  "language_info": {
   "codemirror_mode": {
    "name": "ipython",
    "version": 3
   },
   "file_extension": ".py",
   "mimetype": "text/x-python",
   "name": "python",
   "nbconvert_exporter": "python",
   "pygments_lexer": "ipython3",
   "version": "3.12.3"
  }
 },
 "nbformat": 4,
 "nbformat_minor": 5
}
